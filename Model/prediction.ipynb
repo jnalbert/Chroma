{
 "metadata": {
  "language_info": {
   "codemirror_mode": {
    "name": "ipython",
    "version": 3
   },
   "file_extension": ".py",
   "mimetype": "text/x-python",
   "name": "python",
   "nbconvert_exporter": "python",
   "pygments_lexer": "ipython3",
   "version": "3.8.6-final"
  },
  "orig_nbformat": 2,
  "kernelspec": {
   "name": "chroma",
   "display_name": "Chroma",
   "language": "python"
  }
 },
 "nbformat": 4,
 "nbformat_minor": 2,
 "cells": [
  {
   "cell_type": "code",
   "execution_count": 16,
   "metadata": {},
   "outputs": [],
   "source": [
    "import cv2\n",
    "from skimage.color import rgb2lab, lab2rgb, rgb2gray, gray2rgb\n",
    "import matplotlib.pyplot as plt \n",
    "from skimage.transform import resize\n",
    "import numpy as np\n",
    "from tensorflow.keras.layers import RepeatVector , Reshape \n",
    "from PIL import Image\n",
    "from tensorflow.keras.preprocessing.image import ImageDataGenerator, img_to_array, load_img"
   ]
  },
  {
   "cell_type": "code",
   "execution_count": 2,
   "metadata": {},
   "outputs": [
    {
     "output_type": "stream",
     "name": "stdout",
     "text": [
      "WARNING:tensorflow:From /Users/justinalbert/.local/share/virtualenvs/Model-v_FdXyLj/lib/python3.8/site-packages/tensorflow/python/compat/v2_compat.py:96: disable_resource_variables (from tensorflow.python.ops.variable_scope) is deprecated and will be removed in a future version.\nInstructions for updating:\nnon-resource variables are not supported in the long term\n"
     ]
    }
   ],
   "source": [
    "import tensorflow.compat.v1 as tf\n",
    "tf.disable_v2_behavior()\n",
    "from tensorflow.keras.applications.inception_resnet_v2 import InceptionResNetV2, decode_predictions, preprocess_input\n",
    "inception = InceptionResNetV2(weights=None, include_top=True)\n",
    "inception.load_weights('./data/inception_resnet_v2_weights_tf_dim_ordering_tf_kernels.h5')\n",
    "inception.graph = tf.get_default_graph()"
   ]
  },
  {
   "cell_type": "code",
   "execution_count": 15,
   "metadata": {},
   "outputs": [],
   "source": [
    "#To generate embeddings of 1000*1 by passing input images through InceptionResNetV2\n",
    "def create_inception_embedding(grayscaled_rgb):\n",
    "    grayscaled_rgb_resized = []\n",
    "    for i in grayscaled_rgb:\n",
    "        i = resize(i, (299, 299, 3), mode='constant')\n",
    "        grayscaled_rgb_resized.append(i)\n",
    "    grayscaled_rgb_resized = np.array(grayscaled_rgb_resized)\n",
    "    grayscaled_rgb_resized = preprocess_input(grayscaled_rgb_resized)\n",
    "    with inception.graph.as_default():\n",
    "        embed = inception.predict(grayscaled_rgb_resized)\n",
    "    return embed\n",
    "import tensorflow as tf"
   ]
  },
  {
   "cell_type": "code",
   "execution_count": 4,
   "metadata": {},
   "outputs": [
    {
     "output_type": "stream",
     "name": "stdout",
     "text": [
      "WARNING:tensorflow:From /Users/justinalbert/.local/share/virtualenvs/Model-v_FdXyLj/lib/python3.8/site-packages/tensorflow/python/ops/init_ops.py:97: calling GlorotUniform.__init__ (from tensorflow.python.ops.init_ops) with dtype is deprecated and will be removed in a future version.\n",
      "Instructions for updating:\n",
      "Call initializer instance with the dtype argument instead of passing it to the constructor\n",
      "WARNING:tensorflow:From /Users/justinalbert/.local/share/virtualenvs/Model-v_FdXyLj/lib/python3.8/site-packages/tensorflow/python/ops/init_ops.py:97: calling Zeros.__init__ (from tensorflow.python.ops.init_ops) with dtype is deprecated and will be removed in a future version.\n",
      "Instructions for updating:\n",
      "Call initializer instance with the dtype argument instead of passing it to the constructor\n"
     ]
    }
   ],
   "source": [
    "from tensorflow import keras\n",
    "model = keras.models.load_model('./color_model.h5')"
   ]
  },
  {
   "cell_type": "code",
   "execution_count": 5,
   "metadata": {},
   "outputs": [
    {
     "output_type": "stream",
     "name": "stdout",
     "text": [
      "Model: \"model\"\n__________________________________________________________________________________________________\nLayer (type)                    Output Shape         Param #     Connected to                     \n==================================================================================================\ninput_3 (InputLayer)            [(None, 256, 256, 1) 0                                            \n__________________________________________________________________________________________________\nconv2d_203 (Conv2D)             (None, 128, 128, 64) 640         input_3[0][0]                    \n__________________________________________________________________________________________________\nconv2d_204 (Conv2D)             (None, 128, 128, 128 73856       conv2d_203[0][0]                 \n__________________________________________________________________________________________________\nconv2d_205 (Conv2D)             (None, 64, 64, 128)  147584      conv2d_204[0][0]                 \n__________________________________________________________________________________________________\nconv2d_206 (Conv2D)             (None, 64, 64, 256)  295168      conv2d_205[0][0]                 \n__________________________________________________________________________________________________\nconv2d_207 (Conv2D)             (None, 32, 32, 256)  590080      conv2d_206[0][0]                 \n__________________________________________________________________________________________________\nconv2d_208 (Conv2D)             (None, 32, 32, 512)  1180160     conv2d_207[0][0]                 \n__________________________________________________________________________________________________\nconv2d_209 (Conv2D)             (None, 32, 32, 512)  2359808     conv2d_208[0][0]                 \n__________________________________________________________________________________________________\nconv2d_210 (Conv2D)             (None, 32, 32, 256)  1179904     conv2d_209[0][0]                 \n__________________________________________________________________________________________________\ninput_2 (InputLayer)            [(None, 32, 32, 1000 0                                            \n__________________________________________________________________________________________________\nconcatenate (Concatenate)       (None, 32, 32, 1256) 0           conv2d_210[0][0]                 \n                                                                 input_2[0][0]                    \n__________________________________________________________________________________________________\nconv2d_211 (Conv2D)             (None, 32, 32, 256)  321792      concatenate[0][0]                \n__________________________________________________________________________________________________\nconv2d_212 (Conv2D)             (None, 32, 32, 256)  65792       conv2d_211[0][0]                 \n__________________________________________________________________________________________________\nconv2d_213 (Conv2D)             (None, 32, 32, 128)  295040      conv2d_212[0][0]                 \n__________________________________________________________________________________________________\nup_sampling2d (UpSampling2D)    (None, 64, 64, 128)  0           conv2d_213[0][0]                 \n__________________________________________________________________________________________________\nconv2d_214 (Conv2D)             (None, 64, 64, 64)   73792       up_sampling2d[0][0]              \n__________________________________________________________________________________________________\nup_sampling2d_1 (UpSampling2D)  (None, 128, 128, 64) 0           conv2d_214[0][0]                 \n__________________________________________________________________________________________________\nconv2d_215 (Conv2D)             (None, 128, 128, 32) 18464       up_sampling2d_1[0][0]            \n__________________________________________________________________________________________________\nconv2d_216 (Conv2D)             (None, 128, 128, 16) 4624        conv2d_215[0][0]                 \n__________________________________________________________________________________________________\nconv2d_217 (Conv2D)             (None, 128, 128, 2)  290         conv2d_216[0][0]                 \n__________________________________________________________________________________________________\nup_sampling2d_2 (UpSampling2D)  (None, 256, 256, 2)  0           conv2d_217[0][0]                 \n==================================================================================================\nTotal params: 6,606,994\nTrainable params: 6,606,994\nNon-trainable params: 0\n__________________________________________________________________________________________________\n"
     ]
    }
   ],
   "source": [
    "model.summary()"
   ]
  },
  {
   "cell_type": "code",
   "execution_count": 6,
   "metadata": {},
   "outputs": [],
   "source": [
    "# Util functions\n",
    "\n",
    "def lab2RGB(l, ab):\n",
    "    shape = (l.shape[0],l.shape[1],3)\n",
    "    img = np.zeros(shape)\n",
    "    img[:,:,0] = l[:,:,0]\n",
    "    img[:,:,1:] = ab\n",
    "    img = img.astype('uint8')\n",
    "    print(img.max())\n",
    "    img = cv2.cvtColor(img, cv2.COLOR_LAB2RGB)\n",
    "    return img\n",
    "def display(img):\n",
    "    plt.figure()\n",
    "    plt.set_cmap('gray')\n",
    "    plt.imshow(img)\n",
    "    plt.show()\n",
    "\n",
    "def get_RGB(image_l, image_ab  ):\n",
    "       \n",
    "    image_l = image_l.reshape((256, 256, 1))\n",
    "    image_lab = np.concatenate((image_l, image_ab), axis=2)\n",
    "    image_lab = image_lab.astype(\"uint8\")\n",
    " \n",
    "    image_rgb = cv2.cvtColor(image_lab, cv2.COLOR_LAB2RGB)\n",
    "    image_rgb = Image.fromarray(image_rgb)\n",
    "    return image_rgb\n",
    "\n",
    "\n",
    "\n"
   ]
  },
  {
   "cell_type": "code",
   "execution_count": 13,
   "metadata": {},
   "outputs": [],
   "source": [
    "def get_rgb_prediction(img_path):\n",
    "    test_img = cv2.imread(img_path)\n",
    "    rgb_img = cv2.cvtColor(test_img, cv2.COLOR_BGR2RGB)\n",
    "    print (rgb_img.shape)\n",
    "\n",
    "    display(rgb_img)\n",
    "\n",
    "    img_lab = rgb2lab(test_img)\n",
    "    img_lab = resize(img_lab, (256, 256, 3), mode='constant')\n",
    "    \n",
    "    img_lab = np.array(img_lab)\n",
    "    \n",
    "    img_lab_one = img_lab\n",
    "\n",
    "    img_l = img_lab_one[:, :, 0]\n",
    "    img_ab = img_lab_one[:, :, 1:]\n",
    "    print(img_ab)\n",
    "\n",
    "    display(img_l)\n",
    "\n",
    "    incept_em = create_inception_embedding([img_l])\n",
    "    embeddings = RepeatVector(32 * 32)(incept_em)\n",
    "    layer_embedding_test = Reshape(([32, 32, 1000]))(embeddings)\n",
    "\n",
    "    img_l = img_l.reshape((1, 256, 256, 1))\n",
    "\n",
    "    output = model.predict([img_l,layer_embedding_test], steps=1)\n",
    "\n",
    "    output = output * 128\n",
    "    print(output)\n",
    "    pred_rgb = get_RGB(img_l[0],output[0])\n",
    "   \n",
    "    return pred_rgb"
   ]
  },
  {
   "cell_type": "code",
   "execution_count": 19,
   "metadata": {},
   "outputs": [],
   "source": [
    "def get_rgb_prediction_new(img_path):\n",
    "\n",
    "    color_img = []\n",
    "    color_img.append(img_to_array(load_img(img_path)))\n",
    "    np.array(color_img, dtype=float)\n",
    "\n",
    "    display(color_img[0])\n",
    "\n",
    "    gray_me = gray2rgb(rgb2gray(1.0/255*color_img))\n",
    "\n",
    "    color_me_embed = create_inception_embedding(gray_me)\n",
    "\n",
    "    color_l = rgb2lab(1.0/255*color_img)[:,:,:,0]\n",
    "    color_l = color_me.reshape(color_l.shape+(1,))\n",
    "\n",
    "\n",
    "\n",
    "    display(color_l[0])\n",
    "\n",
    "\n",
    "\n",
    "    color_me_embed = create_inception_embedding(gray_me)\n",
    "    output = model.predict([color_l,layer_embedding_test], steps=1)\n",
    "\n",
    "    output = output * 128\n",
    "  \n",
    "    pred_rgb = get_RGB(color_l[0],output[0])\n",
    "   \n",
    "    return pred_rgb\n",
    "\n"
   ]
  },
  {
   "cell_type": "code",
   "execution_count": 20,
   "metadata": {},
   "outputs": [
    {
     "output_type": "stream",
     "name": "stderr",
     "text": [
      "Clipping input data to the valid range for imshow with RGB data ([0..1] for floats or [0..255] for integers).\n"
     ]
    },
    {
     "output_type": "display_data",
     "data": {
      "text/plain": "<Figure size 432x288 with 1 Axes>",
      "image/svg+xml": "<?xml version=\"1.0\" encoding=\"utf-8\" standalone=\"no\"?>\n<!DOCTYPE svg PUBLIC \"-//W3C//DTD SVG 1.1//EN\"\n  \"http://www.w3.org/Graphics/SVG/1.1/DTD/svg11.dtd\">\n<!-- Created with matplotlib (https://matplotlib.org/) -->\n<svg height=\"251.892656pt\" version=\"1.1\" viewBox=\"0 0 262.799687 251.892656\" width=\"262.799687pt\" xmlns=\"http://www.w3.org/2000/svg\" xmlns:xlink=\"http://www.w3.org/1999/xlink\">\n <metadata>\n  <rdf:RDF xmlns:cc=\"http://creativecommons.org/ns#\" xmlns:dc=\"http://purl.org/dc/elements/1.1/\" xmlns:rdf=\"http://www.w3.org/1999/02/22-rdf-syntax-ns#\">\n   <cc:Work>\n    <dc:type rdf:resource=\"http://purl.org/dc/dcmitype/StillImage\"/>\n    <dc:date>2021-03-01T13:18:12.700305</dc:date>\n    <dc:format>image/svg+xml</dc:format>\n    <dc:creator>\n     <cc:Agent>\n      <dc:title>Matplotlib v3.3.4, https://matplotlib.org/</dc:title>\n     </cc:Agent>\n    </dc:creator>\n   </cc:Work>\n  </rdf:RDF>\n </metadata>\n <defs>\n  <style type=\"text/css\">*{stroke-linecap:butt;stroke-linejoin:round;}</style>\n </defs>\n <g id=\"figure_1\">\n  <g id=\"patch_1\">\n   <path d=\"M 0 251.892656 \nL 262.799687 251.892656 \nL 262.799687 0 \nL 0 0 \nz\n\" style=\"fill:none;\"/>\n  </g>\n  <g id=\"axes_1\">\n   <g id=\"patch_2\">\n    <path d=\"M 33.2875 228.014531 \nL 250.7275 228.014531 \nL 250.7275 10.574531 \nL 33.2875 10.574531 \nz\n\" style=\"fill:#ffffff;\"/>\n   </g>\n   <g clip-path=\"url(#p4c1d6acdcf)\">\n    <image height=\"218\" id=\"imaged8159da9b6\" transform=\"scale(1 -1)translate(0 -218)\" width=\"218\" x=\"33.2875\" xlink:href=\"data:image/png;base64,\niVBORw0KGgoAAAANSUhEUgAAANoAAADaCAYAAADAHVzbAAAdvElEQVR4nO3de5xN9f7H8deeqxmRGSTjWqSSTipRjZBO0o8kKbpJ0lX3m+TkJMckpU5K6OKUElIn5ZLouE0qiVTuKnKLDMaMmWEu+/P747PH7NmzN3PZe80083k+HvMws9baa3/3tt97rfVd34tL5DyBlRyfAKcBmcXYFmA1cBKwFOjrWTYPaAE08+wvnwv4BYjx7D8VuNHz2Ew4sh+yYqFWrWI+d3k7H319qwKsnw18AWwDPgM2ASei71cw/BsYDSwC2gA1gGuABGCcZ5vawH+AHkAS0B9oDUQAy4B9QC0gtoTPLcAe4GSvZSlAHBBewn358ydazv5ouQHORssLcAiYgH5+TgfSgavQz9y/0c/aV0C0n33X85TdV7hnXem5RESOv5mTFlDwBrqA6fDz9fBlD+jWDerthBMTgajyK2KZfQM85bPsJGAYcFYp9rcS/YB1QN+zfAL0Bj4u4f4WAAOAt4ArSvhYN9AHmOG17H7gWTRsvr4GLqJwuctiKlAX+HuA9YK+phyf5WGex/bx85gEYErZiiV/JdOmifxyn4ikBdjgLRHZJyJzPH/PFpH9nuV7RGR+yItYejtFZFIpHrdARB4TkRNFxB2ksqwXkf96/T1RRCYHad++hkrZy/221z6+F5ENZdxfWWSKyHT9dfFike3bRUQkrGwxdVifPtDsVfRUKAUYiH5zvuX5HfSbaQ16ShaNflPGeJZX5KNgAnBbKR4XBTwBjAWG+lmfBTxTwn2egZ5q5vsHUK0UZSuOf1H2o9nTFFyKRHh+AnkKeBDYgp46B/IO8FspyuLi6HsVFQXhLwEDK+KpY3EdAX4A6qOnASno9UgEsB+91mvo53GvoKcIn6CnVXk+6z/H/ymOt4lAS+ASr2Wz0dO3vn62T0KDHwxhwH+BnuhpzsOe5W5gDjDSZ/s8IBv4sQzPmQDspHAg+qIfxmroe7YPWAEM9iz7vwD7aot+KQTTKuBcihfY1UAu+mWyB71282cg8C16PVfLz/pM4A4Kn1IKevqeo//dScC4++D85rgkIUGO7nc4+v5sAL70/P0u6MXlVQEKlE3hio2SCOfY3z6hkIF+y8cBB/ysjwd2oNcN/nQHXkD/U7sCC9Ej52FAICcCItye/3MXesQ55FkfLPlljwGqey3Po+hrOoRWYt2Jfsnkf7FEUfwjSVP0COC9/TnoteYv5JFI7ohh3DhhCUv4njp16vLjj4uYPBmGPA6EXcP6sDep2zALlg8G5hf7lZZcLkdfo6AfT8K07BF5PvUxYUCkz+Pd6Bf33eiXyeWe7QBeBRqjXxRT0JD2A8ZT8IQnwqojMOkG+McoiIuD6Ghc4nYXpMRF0cy4ivzi41Jge+DXfUz3AQ+V8rE5wO+e3+uhp5P5DqHvcHyAx+5CL5h93+R8/r44ftPlh4DsyRD/AVpp0JRC780tt8AL33gq3dpR5ovoMss/ys4CXkSPxi5gHYFfv68tFHmdR9+j1cxMP4/b9gwmpv7TxMbGkgfsOewiYScwDHb2ELZcC0d2/k6TpncSuqBlwIHhEDEZapygB52/AVzJvv2ncmDUOFyXQZNTYGv2EWqmXc5JJ03yej3bgD+Amz3LPkJrOH1fs6/96FE8FvgNJApoCCNGQJcucOGFf7HKkEJ2i0g3z89CEVkqIlkiMktEXhGRD0RkhYiki8hcz/IfPI8dKiJ/lvD5rtPnSu4mMnVqWQvvoGwRWeL193IRySjhPk4SfY//kKIVDatEFiJvd0NWrpwnIiIHROTxtSLSSkQQeRyRvTtEBgzYIiKXl/gVFN8KkVHdZNWURXJQRHJycmTWrMUya5ZIn6dF2nQTqd5N5N0jIicuXy4v9+/v9dg8EekrIl+X4nmHiH6+3CISJSLtimzxFw6aj7dai2T9KbL3DpGPenkWvicyYYRI9sMiuxD5rF+5FrF8HBSRk0Vkpufv/xORX0u4j+EiMkZE1kqRmts/Vol8epboh22jftbGHhKRkSKvjxS5YqXIEJHcdJFxsl+0hjCEFotMWy2yS0SOJB2RIbwsQ84QGbJQZLh8KLXd+6Ta86/IuHuWixQKmoi+V2+U4knnidbUukXkUfEXNKcvkELnNaB3FES9CPV+8iy8GRrNBdeHEJ0EJ20ozxKWkxjgZcp2M3yY1+8tC6+KBja2hllJnsv4B6DJc8CpcPmXsO1O+O19XHln0JhcYHcZynE8P0DH9fThRv2zSRRJXAut+sKl0INk9tGaaaO/o8/Dc7SNRCE10QqOY3kFrZFt7LXM+17jSGApLFwI2dnQtasuLkV8K6ZNrUVyU6XoPRm3iKwTcWeKyDbny1Xu0kXkWq+/t4jIkSDuf5XMeu8maTVa5Cu3W8TdVMTdQURWikx/SCT+OulHsqTsFs/z/hbE5/Y1R0TqyBNPtJJWrTZIq5YirVgjj/RGxgpSQxC6IVkRq0SaZYj0316K5/hd9BLFH7eIdNZf33xTZOzYo2v+WvfRjuW0ZXD+BSAdfVa4ILU+dOgCNCqPkpUzQavm89Wj5DW9hwhYEfAjpA6ENSPgUNyNUHM7NEsG2kPPcdC3I+O/vIi4ujmQcR5wSileQzHlAukHGbJlA+41h1mzTu+ojs2Fp7L/gZBG2MY0Mk5oDW+vp+itkPydHKuGuDGB7ymew9HbKJEUqmuqPEEjFlZvAtfSoqvCwiAhwfkiVQixwGSvvx9Da11LokXgVVFAXTj5aTihbxI0rQeNBXBB1Okwri6xl4UTlge0yijh85bQfODUh7l3/nWsYzP51fyxM+HF0amkIzSjBj1cLojJw3+gfkBPtUujIUdrZq9Cb9N6VJ5rtGOpWROmTy/vUpSTDPR/PP+G9bhjbFsKJwNXwyNA4oSpFNzEPx24pWA7F3oLMtQGoHebpr4FdANqciYX057FaOPtNvwvG73H3dbfDi7w/JTGvRxtofRf9Hbt/fpn1QiaCZJ16Gno5QWLtqLZHQ2FGkpvBVaPh56fAhMgooHe73XM82hFUCOW8xCfsJGzaKOrMjJh0nj4LtjP+RB66ok2UsotWFOJTh1N6MVTuLatwH/I7xTkhtRb4cZ18MXraHegHfqhu92hYgJ6KPHTpcsFvHsYbT4WQq27QJuCQ7gFrcoR/Fds3Ii2//Nt++ntZPSU0MfVsH6fsHdpf5AdcMKHMPlyeHaN3hn4Hv2kDSv60FBwuVxAMnoKuImj52/5jpYjWF1zvC2D1athyHi8K34saFXONeh5na930Ou4UnwkZkFs7X8R+fo0aNQcJAaa79JWbsOAEWi7XIcqfd955x3OPvtsYB2c2Qqm7CEzM5Ps7GyQA3BQYM75aHO0YGsKhw/D3r2FllrQqpwc/B/RoijoVlQyteNgYv2n6TytI+zIhcj1aDvPdhDRDj6tAR0D9TYPplrs+qMxK1dGkpXl0k/3OTkQCc899xzz5s3TMqV+A938NSgOHQtaldOFwg2wy+7KrnDzzd5L4tEuJvk/58CNPcAV6h5ZjXjvvbZcdBG0anUNkTX7wQe+2/QGrg5xOYqyoFU50Tj33/6V5wfIGknJO6CWUMufYexH9HsF3njjGapVi9cWX54G+m+8AXv3jsTJI1k+C1qVMws46NBz/QwMgPt/hmv6g+uLEDzHfWhXrUuh6ZNQB1a0hOuHDCRz/6t68JqnW86ZA6lOvXQfFrRK7wS0ij2fpxNkSIRT0LNyBTq0wmb46SCcK+D+NgTP+U+0z98UFi0azHNrwhh0Mfy5YgV52XlaDC9LFkP02hVen/xn0FG/yqofR/tHnueCFwtHy25YV3qH0G7z+ZURbxO4Q2xJuSFyj2d3qWhP/Py2lG3Q8UCGwsIo4I8Q5buu/pObS6dWXRh8Xnfi2EGE1yhXMTExRETEk55ejUs77ybjl4uotqyTZ+0wSl+wHCANHbpvP3qz0A1RTSFqQqEt7YhWJXjfG7sN7UkcDJnQahi7x8Lvm0fCvibo0Haeto64gFshvAVffXMBUuohL4ph7zZcL91K2IQJMLMRsP7oqm4XXMADPZKBLrRrO5iwC6pB+GzP2rIc4bcDrxdelL0fvr8a32hZ0EwZRAK9+ZKufLgO2AvwPwrfPvgJ2M+CBSEuSix6R6FNG+ZtOZ2UFICBxAMtli7luyk6pMSlnTsTFh6MgVwBTkVH4PKShl42+rCgVTkPcfR0q8wOA89zEZl0vRo44xF0NOBwn23yGD48HJdrdJCe1499wBvAZZcR034i4eGNgOc5mUm05h7yc14jaSSuHN/BU4NlFIFqNC1oVc4c9Gs3ODaynxtYympAh9xL99miA3Cy3iB298YJHTt2ZO7cucQu78lvU8fzJfOPjpj5AZA7N1TPfC2BImVBq3I2o2NiBkMNmrGIOXlursl1QfYvIOmICNlLv4X4xyD+Vfh2rd7LClVlJ3qyOhcYnvsKg+6Op1OnDmQ2SabJXSsYw68kAPwHNp0CUppxasvIgmbKIIwITuSLqVMZP9QF/a6DnX9j375cbh2YC7Uz9ScyVxtkhLAuZAva+6zapMNM7naABg0OwC+nEp7WmBM4AYiH2+CnLRDtRGswHxY0UwxdAizPAVZDw3Nh/Wh44jZoeCt16riYuikeNl8Fm5vo5DpPE9IjWr477mzOVQkN9Oy4/Q+kM5fv+Rv5k14sBNxFyvE12kuzLNoB1bXJ6CVF11rQTDG8g/+UZLKbscysPQmGDIXzlqP91Vxoe8q2HB19a3VoS1iL/MHYr4UxHbhj6x1EEc124Hm+Bj4E4B6KziOj3wL7iiwtmaeB+lAzFl4oem5qQTOllwnRT0D9mmkQ3xZtYTEMHZa8H/rh8zTNeIKQHtHiKTRwAvexlehC9w+noR3jQuEDCuYYjAXuKrKFBc2UXg7ELYB2P22Drzd6raiODt4BGrZzHSvS22+/zZy5HenFNjLIRcfHH8P9rGXNq7tYs0YnefF5FGWbaHANOpS4gFzqdwsLWpWTP4VVENSEn7+Gh6/sS9RNacBiz4oIdKabUehsP9UD7CB4tgLXA9kpt7Av6XY2t1xFNDVYRDVyacRYoN1j/YmO3kpY2GqfRzel7C36+4FshRab/K61oFU5o9EPf3FtotAoM97ccPZ22JQewQ2p96C1Hvm+g5Qn4cedkBHiYeZwE8EGegHJRDFtUARr1sWShYtLOcxMtpIEZNT/JxKZQOGJK4JlMtA04MzTFrQq534KD6h6PDdS9Ca0xyGgC6x9C7777mV0GqceHL0YWw30Hgk//AAzCWH1vpuGTKQvGqHPWcaVHOA6AH5FLxCBXg9B/DYKT7Loaw+huJaz1vuVXjSlnxrrOKoB90D7M2GOCzZtGkCLFvXQoDWFv/fUORGaNtUqQa8MBlUu8MJZnL7xXEZdAIzax228SK2RT3P+0HroKSzwLtS++0WocayxLY/gf968srEjWqUXDXTEM/Bi8Hc9GOgOi5vBlrjrGcDl5HIr2rn0NLjiFWjob+bVIHK7YeJ0msVfx+AbYPDgDQzf9io9s69nyZIMlixZQuPGjRncfDDxA+M8kxMG0phC41aW1Hv+F9sRrUpIp/RT685EZ1nxT9aCvAWDxzxJLNVo6Y4lnGYQdhJ6ylZHaynKepvqeBrB4sfc3P7ZG3DGCHYuyyA7PAl5sD6MfY1vu8YxdNqdLEzeSlN3iMrgAjr7P2T/heewNsXn9vxEoA2VXkW7eBTHhehYALX8rDvImp/bc8Xly+BwElMiX6JT1LdQp5HmOgu9jusOfHwONNgBrhCcRGVnQ4tquH+IILfG3RCxHf68l4ycc4iPdEEexNaE6VG5dJNEXJHrwBVoooqSOozeAq8O+w9AXA1wFbl/YEe0yi8XWIvOdFIaZ+Iz8bOXcFqdXYOdu1+G1xrCBW2gnVdnrHnodN/hQGzz0N2wdgENogn717lEjfkU2AaP/UbeL9WPzkR+553QvT/oILCBwp6N1rK2KsGTz0SnXX4K2raDtWv1lNqHBa3Sy0RbaZT21PEqtAGfPyeg7QTxdHb06fF4Dceu4AuWyDBY9gg6DdM84L8w+WliaJRfumLKRMdXKUnQQFu//K4VPgEybJUh5jiSCHhzqMKIoGCus65oD9DSDItcC3i0ZA9ZCXyRB4gWI8BR24JmimkbOqpVRXMvOjBQOWnUGc58DWiqYyDZEa2q8m3V8Q6BZoQ5tgR0EsN/o0eLzWUqVfCM4Fi1oiH37Tfw2UwgDx7EX9cAwIJWyQnQHh0OLcWz7DZ09KbS7CsXeABtWdg8COULhtqU7WN8AD1aB2hmdjyXZcHNO4FbYG/g0cUsaJWaC5088E3Pz2Z0qKqS3tFxA+8DPdG+zOE40ouzzPKABehIXIEMB5oAMyj5+5IOK36Gz0ejTdUCnylY0KqEZsAQYCOQCJxYgsfehLZsX4P2Iq4op4ygIcqfj/sg8BI6L5pHTha81AVmjTjGPjqhp8I3c+y54fw5BJ2y4Ia2wEwYcDDgnRCr3q9SulPiiaT/mQpPPALV36TiHcVmoF1wEtCmJ++izc08jjyolYi90bsUfvVEO2vupmTHnbvQm9Xt0JD+DE9dQqBIWdDMsfXtC9H+xtPoDYe26gEB9NLtO3Qa6wTfbd8iJF1TRqIB+lv+ggYU6qoTMwNWnApxo7we1AuYCGsfhVsnwyNjIHmqVtN/MxbCfScovAwdluFR9BR0kGf53egRMB5tZXMeGtob8HdYsyZYVd77aFVZScdgSwPJK6hZj0HrE2Lw+pxNBp5EP6j53+kd0GEFvG0EnkVrRIvbAfM/MOhhmDEP1t8BGX/ChVnoTfT83aZCjTAK10qm6Ta5GZBeA2KehJxbtOy19oDrQQpPCpKKHsljvV5gIM3RVjhFm4ZY0Kq8/P/+UJwWBvpo+T7Xr2gbzPspOGIUY9/F+eQW62Xlb1TW9yJw0OzUsUo4iFZitPGzLpTXXcXddzNgQ8n3HfSih+69sFrHKiEL/xPEm+C6n0DVjha0Sk2AgWiL9UDj3i9Ax4xf51ShKrEHCXSSaEGr1FzoNc+ZII+DCBo+74ubNug1RYqfx5sSka4E6r5tQav0WgMrYeb5MC4BSIC0dZB2EO2VGYfW9iWWXxEdJQRzNh11GDIOwkV/wBH/NTRW61gVde8OmTthYXNIeaqg6WMrILI1Fe/GdDAJcAUwPwj7yoIDG+DIx5A0Bx7/DBr5755jQavSNsOi4TpQL8ClMyH6dY6e6FyEVghyPYE7f1ZBs2eTk5rKF7XS6V5nGfx5PfToccyHWPV+lXYaXPo+5I9i/frrsH9PwWpPg5CcYW6eyoKzWEN/dqJjH/4MI0dC1F5gKdoiohKZgc7R0SAXhgzRZZ07w5VXQkoKsncvKbl1ofv7xdqdHdHMceX9D77MhZPYw7lTJkCT2tD+NDJevYgnmgyiV6/zGT36c0bidafuLKAzOg4QaGOQOH97jwY+peB09Vm0lUppekgHshTYgbawHwBMAKJg/nwYM8b/Q9YCH70CbVtwdALuU06BFi1KVQILmimZ1FSIjITY6ri3udkduZuaNWuSkpJCvf5wRTJkLYMVj6Of63uBGZD9Qi6nf3QZiUOXcEl7eO45cM2+Cm5YB+mdwTPLtPAnLuLQ4RNa63MOBRkIJC6DXdqQst8tkJP7FNOmXgvf3wWZsdBhqW4vDzJ3zp2c2bcvnJwOX3SClxvDOR0gaRBs8dQMZmTAPffAbQGan9WvD9F+RtopBQuaKbusLHCnQXQtciQdImoTmZcDUw7ohGTzoXU7+CPCjSuvPve6YOOBgzyUG0Xr+HBw7UWvYqpzR+oJPHlEaOb6U4+AmfE8GwdvhEPKH6nUyatDu0gXn9SBweRxbYqLNuyGMIFaniuh+/KImH0Tru/eh/PPg55XwbiJ4HJBnk9XmLAwCA80ylcQiTFlNW+eyJQGIjJPxH2KyPJFIvKeiDQTeQGRH88WyYsUWVFPZH+ySHKyPNuli2zkbZH5C0TciAgiMkBkSLJIYrJI11iR9deLjEgWEf259pqTJSdqscigZJFduh+58aBI4v+JXIeIxIlIE8++VovIchFxl8MbUpQd0UwZpaBD2c0DDoOEwVOp8NyvQBIsnQqnPQqfJ8KITJjTEW6fo43hf0RvaU0mf7pOLw8Aj6DXa4tgFtrwvxWwvT4svhqmA82bw713QczjaC+BzejIzO8AL6M1Gn1C+QYUi9U6miDpBawG1wZ47jXgf0AHmLoDbhoD4f+Ah+Pg1Y7AbM1PdBKk7PA8vjXakW2u1z6bALcCi4AHIOw9SMoDxkOnq7Uv3MWfQL9wiBmPjv0xB52vuqHOCzCKinFbsLwPqaayWSEieQV/br5b5CAiskNkS3sRHha5QUT2PCsi1UUEkS2IJNYWSWwkkoj+HA4XkUQRuV9kbB+RxPkilzQS2RMpMihR5ONEkcRPRd4XkYxskfbXiTzqXY5bRZYvFHHbqaOprES00iEiAj03zIKsWpD4A3zeCWLjyX3yAFd8dJhPNv9IzM42RLYUvU8ehh6BDgIxLYH7IP0h6BkFyQugdjSknacjCQweD3EDIVJgTwpExMH0idCgAfS8BK1NqRitDO3U0QTfvn1abT5jEpqaetChDcSsgnp/B3rxROQofo35g8M05trIwyyoi44D9AB6BhmVhrZIcUONup7a/z5ob+wjuluX55xwu+f0c8gdMGmSpxAV4XyxgB3RTAjN9vzbHR0uIRq9fspvZ3gu8AzQA75y6ViooEOMNMoBpqKtUB4vvNv9+2HFCv29XTsYNAjef78geBWQBc04JA8YBFsXwow7oFs3aPkFOs7kSLS28FPPtrejY3O8gfbxAj4Efp8I1fOga1cYP16XDxqkM4pWcBY046BDsGsmLAQuvhhO9Z6j7WPgA+B3YApwui5OToZDEyHySdi9Caq5oXegTqwVlwXNlK/DXeCmL+Djg2gr5iyQBLiih7ZF3LcP8rbBSc0o1zH2y8iCZsqX7IG0cyAySyctHPc2fN0LOjSEXbuO+/C/iopR92mqLlcapCyENgLTomDKQ9Ds94ozh0aQ2BHNlLOBpKU9w4J1U+HCRsApdJG21JjbALrZEc2YIHmLI0caMmPb4/ReVI8Z62pwBGDjY+VdsKCyI5qpEHbxDcvX30a7E5NISOhV3sUJOguaqSDS0SmYEtBW+JWLBc0YB9g1mqlAdqFT3VY+FjRTQfyODjCyqLwLEhIWNFNBZKNdqM8u74KEhF2jGeMAO6IZ4wALmjEOsKAZ4wALmjEOsKAZ4wALmjEOsKAZ4wALmjEOsKAZ4wALmjEOsKAZ4wALmjEOsKAZ4wALmjEOsKAZ4wALmjEOsKAZ4wALmjEOsKAZ4wALmjEOsKAZ4wALmjEOsKAZ4wALmilneQGWS9F1eXnwFx2G1IJmHLIb2KO/Hjqk0+bm5ABN0FBloWPvZ3m2TwN6FN7FJZdo2P6CLGgmtDZtgoMHgbuBdrps9my46SbYurVgGSuAm4DvPX+fCMwpvK+vv4aIiJAXORRsSHATWtOnQ5s20KwpMAJ4pnzLU04saMY4wE4djXGABc0YB1jQjHGABc0YB1jQjHGABc0YB1jQjHGABc0YB1jQjHGABc0YB1jQjHGABc0YB1jQjHGABc0YB1jQjHGABc0YB1jQjHGABc0YB1jQjHGABc0YB1jQjHGABc0YB1jQjHGABc0YB1jQjHGABc0YB1jQjHGABc0YB1jQjHGABc0YB1jQjHGABc0YB1jQjHGABc0YB1jQjHGABc0YB1jQjHGABc0YB1jQjHGABc0YB1jQjHGABc0YB1jQjHGABc0YB1jQjHGABc0YB1jQjHGABc0YB1jQjHGABc0YB1jQjHGABc0YB1jQjHGABc0YB1jQjHGABc0YB1jQjHGABc0YB1jQjHGABc0YB1jQjHGABc0YB1jQjHGABc0YB1jQjHGABc0YB1jQjHGABc0YB1jQjHGABc0YB1jQjHGABc0YB1jQjHGABc0YB1jQjHGABc0YB1jQjHGABc0YB1jQjHGABc0YB1jQjHGABc0YB1jQjHGABc0YB1jQjHGABc0YB1jQjHGABc0YB1jQjHGABc0YB1jQjHGABc0YB1jQjHGABc0YB1jQjHGABc0YB1jQjHGABc0YB1jQjHGABc0YB1jQjHGABc0YB1jQjHGABc0YB1jQjHHA/wPkpnEdVfWWwgAAAABJRU5ErkJggg==\" y=\"-10.014531\"/>\n   </g>\n   <g id=\"matplotlib.axis_1\">\n    <g id=\"xtick_1\">\n     <g id=\"line2d_1\">\n      <defs>\n       <path d=\"M 0 0 \nL 0 3.5 \n\" id=\"m523c356f5f\" style=\"stroke:#000000;stroke-width:0.8;\"/>\n      </defs>\n      <g>\n       <use style=\"stroke:#000000;stroke-width:0.8;\" x=\"33.712188\" xlink:href=\"#m523c356f5f\" y=\"228.014531\"/>\n      </g>\n     </g>\n     <g id=\"text_1\">\n      <!-- 0 -->\n      <g transform=\"translate(30.530938 242.612969)scale(0.1 -0.1)\">\n       <defs>\n        <path d=\"M 31.78125 66.40625 \nQ 24.171875 66.40625 20.328125 58.90625 \nQ 16.5 51.421875 16.5 36.375 \nQ 16.5 21.390625 20.328125 13.890625 \nQ 24.171875 6.390625 31.78125 6.390625 \nQ 39.453125 6.390625 43.28125 13.890625 \nQ 47.125 21.390625 47.125 36.375 \nQ 47.125 51.421875 43.28125 58.90625 \nQ 39.453125 66.40625 31.78125 66.40625 \nz\nM 31.78125 74.21875 \nQ 44.046875 74.21875 50.515625 64.515625 \nQ 56.984375 54.828125 56.984375 36.375 \nQ 56.984375 17.96875 50.515625 8.265625 \nQ 44.046875 -1.421875 31.78125 -1.421875 \nQ 19.53125 -1.421875 13.0625 8.265625 \nQ 6.59375 17.96875 6.59375 36.375 \nQ 6.59375 54.828125 13.0625 64.515625 \nQ 19.53125 74.21875 31.78125 74.21875 \nz\n\" id=\"DejaVuSans-48\"/>\n       </defs>\n       <use xlink:href=\"#DejaVuSans-48\"/>\n      </g>\n     </g>\n    </g>\n    <g id=\"xtick_2\">\n     <g id=\"line2d_2\">\n      <g>\n       <use style=\"stroke:#000000;stroke-width:0.8;\" x=\"76.180937\" xlink:href=\"#m523c356f5f\" y=\"228.014531\"/>\n      </g>\n     </g>\n     <g id=\"text_2\">\n      <!-- 50 -->\n      <g transform=\"translate(69.818438 242.612969)scale(0.1 -0.1)\">\n       <defs>\n        <path d=\"M 10.796875 72.90625 \nL 49.515625 72.90625 \nL 49.515625 64.59375 \nL 19.828125 64.59375 \nL 19.828125 46.734375 \nQ 21.96875 47.46875 24.109375 47.828125 \nQ 26.265625 48.1875 28.421875 48.1875 \nQ 40.625 48.1875 47.75 41.5 \nQ 54.890625 34.8125 54.890625 23.390625 \nQ 54.890625 11.625 47.5625 5.09375 \nQ 40.234375 -1.421875 26.90625 -1.421875 \nQ 22.3125 -1.421875 17.546875 -0.640625 \nQ 12.796875 0.140625 7.71875 1.703125 \nL 7.71875 11.625 \nQ 12.109375 9.234375 16.796875 8.0625 \nQ 21.484375 6.890625 26.703125 6.890625 \nQ 35.15625 6.890625 40.078125 11.328125 \nQ 45.015625 15.765625 45.015625 23.390625 \nQ 45.015625 31 40.078125 35.4375 \nQ 35.15625 39.890625 26.703125 39.890625 \nQ 22.75 39.890625 18.8125 39.015625 \nQ 14.890625 38.140625 10.796875 36.28125 \nz\n\" id=\"DejaVuSans-53\"/>\n       </defs>\n       <use xlink:href=\"#DejaVuSans-53\"/>\n       <use x=\"63.623047\" xlink:href=\"#DejaVuSans-48\"/>\n      </g>\n     </g>\n    </g>\n    <g id=\"xtick_3\">\n     <g id=\"line2d_3\">\n      <g>\n       <use style=\"stroke:#000000;stroke-width:0.8;\" x=\"118.649687\" xlink:href=\"#m523c356f5f\" y=\"228.014531\"/>\n      </g>\n     </g>\n     <g id=\"text_3\">\n      <!-- 100 -->\n      <g transform=\"translate(109.105937 242.612969)scale(0.1 -0.1)\">\n       <defs>\n        <path d=\"M 12.40625 8.296875 \nL 28.515625 8.296875 \nL 28.515625 63.921875 \nL 10.984375 60.40625 \nL 10.984375 69.390625 \nL 28.421875 72.90625 \nL 38.28125 72.90625 \nL 38.28125 8.296875 \nL 54.390625 8.296875 \nL 54.390625 0 \nL 12.40625 0 \nz\n\" id=\"DejaVuSans-49\"/>\n       </defs>\n       <use xlink:href=\"#DejaVuSans-49\"/>\n       <use x=\"63.623047\" xlink:href=\"#DejaVuSans-48\"/>\n       <use x=\"127.246094\" xlink:href=\"#DejaVuSans-48\"/>\n      </g>\n     </g>\n    </g>\n    <g id=\"xtick_4\">\n     <g id=\"line2d_4\">\n      <g>\n       <use style=\"stroke:#000000;stroke-width:0.8;\" x=\"161.118437\" xlink:href=\"#m523c356f5f\" y=\"228.014531\"/>\n      </g>\n     </g>\n     <g id=\"text_4\">\n      <!-- 150 -->\n      <g transform=\"translate(151.574688 242.612969)scale(0.1 -0.1)\">\n       <use xlink:href=\"#DejaVuSans-49\"/>\n       <use x=\"63.623047\" xlink:href=\"#DejaVuSans-53\"/>\n       <use x=\"127.246094\" xlink:href=\"#DejaVuSans-48\"/>\n      </g>\n     </g>\n    </g>\n    <g id=\"xtick_5\">\n     <g id=\"line2d_5\">\n      <g>\n       <use style=\"stroke:#000000;stroke-width:0.8;\" x=\"203.587187\" xlink:href=\"#m523c356f5f\" y=\"228.014531\"/>\n      </g>\n     </g>\n     <g id=\"text_5\">\n      <!-- 200 -->\n      <g transform=\"translate(194.043438 242.612969)scale(0.1 -0.1)\">\n       <defs>\n        <path d=\"M 19.1875 8.296875 \nL 53.609375 8.296875 \nL 53.609375 0 \nL 7.328125 0 \nL 7.328125 8.296875 \nQ 12.9375 14.109375 22.625 23.890625 \nQ 32.328125 33.6875 34.8125 36.53125 \nQ 39.546875 41.84375 41.421875 45.53125 \nQ 43.3125 49.21875 43.3125 52.78125 \nQ 43.3125 58.59375 39.234375 62.25 \nQ 35.15625 65.921875 28.609375 65.921875 \nQ 23.96875 65.921875 18.8125 64.3125 \nQ 13.671875 62.703125 7.8125 59.421875 \nL 7.8125 69.390625 \nQ 13.765625 71.78125 18.9375 73 \nQ 24.125 74.21875 28.421875 74.21875 \nQ 39.75 74.21875 46.484375 68.546875 \nQ 53.21875 62.890625 53.21875 53.421875 \nQ 53.21875 48.921875 51.53125 44.890625 \nQ 49.859375 40.875 45.40625 35.40625 \nQ 44.1875 33.984375 37.640625 27.21875 \nQ 31.109375 20.453125 19.1875 8.296875 \nz\n\" id=\"DejaVuSans-50\"/>\n       </defs>\n       <use xlink:href=\"#DejaVuSans-50\"/>\n       <use x=\"63.623047\" xlink:href=\"#DejaVuSans-48\"/>\n       <use x=\"127.246094\" xlink:href=\"#DejaVuSans-48\"/>\n      </g>\n     </g>\n    </g>\n    <g id=\"xtick_6\">\n     <g id=\"line2d_6\">\n      <g>\n       <use style=\"stroke:#000000;stroke-width:0.8;\" x=\"246.055937\" xlink:href=\"#m523c356f5f\" y=\"228.014531\"/>\n      </g>\n     </g>\n     <g id=\"text_6\">\n      <!-- 250 -->\n      <g transform=\"translate(236.512188 242.612969)scale(0.1 -0.1)\">\n       <use xlink:href=\"#DejaVuSans-50\"/>\n       <use x=\"63.623047\" xlink:href=\"#DejaVuSans-53\"/>\n       <use x=\"127.246094\" xlink:href=\"#DejaVuSans-48\"/>\n      </g>\n     </g>\n    </g>\n   </g>\n   <g id=\"matplotlib.axis_2\">\n    <g id=\"ytick_1\">\n     <g id=\"line2d_7\">\n      <defs>\n       <path d=\"M 0 0 \nL -3.5 0 \n\" id=\"m84988e68a5\" style=\"stroke:#000000;stroke-width:0.8;\"/>\n      </defs>\n      <g>\n       <use style=\"stroke:#000000;stroke-width:0.8;\" x=\"33.2875\" xlink:href=\"#m84988e68a5\" y=\"10.999219\"/>\n      </g>\n     </g>\n     <g id=\"text_7\">\n      <!-- 0 -->\n      <g transform=\"translate(19.925 14.798438)scale(0.1 -0.1)\">\n       <use xlink:href=\"#DejaVuSans-48\"/>\n      </g>\n     </g>\n    </g>\n    <g id=\"ytick_2\">\n     <g id=\"line2d_8\">\n      <g>\n       <use style=\"stroke:#000000;stroke-width:0.8;\" x=\"33.2875\" xlink:href=\"#m84988e68a5\" y=\"53.467969\"/>\n      </g>\n     </g>\n     <g id=\"text_8\">\n      <!-- 50 -->\n      <g transform=\"translate(13.5625 57.267188)scale(0.1 -0.1)\">\n       <use xlink:href=\"#DejaVuSans-53\"/>\n       <use x=\"63.623047\" xlink:href=\"#DejaVuSans-48\"/>\n      </g>\n     </g>\n    </g>\n    <g id=\"ytick_3\">\n     <g id=\"line2d_9\">\n      <g>\n       <use style=\"stroke:#000000;stroke-width:0.8;\" x=\"33.2875\" xlink:href=\"#m84988e68a5\" y=\"95.936719\"/>\n      </g>\n     </g>\n     <g id=\"text_9\">\n      <!-- 100 -->\n      <g transform=\"translate(7.2 99.735938)scale(0.1 -0.1)\">\n       <use xlink:href=\"#DejaVuSans-49\"/>\n       <use x=\"63.623047\" xlink:href=\"#DejaVuSans-48\"/>\n       <use x=\"127.246094\" xlink:href=\"#DejaVuSans-48\"/>\n      </g>\n     </g>\n    </g>\n    <g id=\"ytick_4\">\n     <g id=\"line2d_10\">\n      <g>\n       <use style=\"stroke:#000000;stroke-width:0.8;\" x=\"33.2875\" xlink:href=\"#m84988e68a5\" y=\"138.405469\"/>\n      </g>\n     </g>\n     <g id=\"text_10\">\n      <!-- 150 -->\n      <g transform=\"translate(7.2 142.204688)scale(0.1 -0.1)\">\n       <use xlink:href=\"#DejaVuSans-49\"/>\n       <use x=\"63.623047\" xlink:href=\"#DejaVuSans-53\"/>\n       <use x=\"127.246094\" xlink:href=\"#DejaVuSans-48\"/>\n      </g>\n     </g>\n    </g>\n    <g id=\"ytick_5\">\n     <g id=\"line2d_11\">\n      <g>\n       <use style=\"stroke:#000000;stroke-width:0.8;\" x=\"33.2875\" xlink:href=\"#m84988e68a5\" y=\"180.874219\"/>\n      </g>\n     </g>\n     <g id=\"text_11\">\n      <!-- 200 -->\n      <g transform=\"translate(7.2 184.673438)scale(0.1 -0.1)\">\n       <use xlink:href=\"#DejaVuSans-50\"/>\n       <use x=\"63.623047\" xlink:href=\"#DejaVuSans-48\"/>\n       <use x=\"127.246094\" xlink:href=\"#DejaVuSans-48\"/>\n      </g>\n     </g>\n    </g>\n    <g id=\"ytick_6\">\n     <g id=\"line2d_12\">\n      <g>\n       <use style=\"stroke:#000000;stroke-width:0.8;\" x=\"33.2875\" xlink:href=\"#m84988e68a5\" y=\"223.342969\"/>\n      </g>\n     </g>\n     <g id=\"text_12\">\n      <!-- 250 -->\n      <g transform=\"translate(7.2 227.142188)scale(0.1 -0.1)\">\n       <use xlink:href=\"#DejaVuSans-50\"/>\n       <use x=\"63.623047\" xlink:href=\"#DejaVuSans-53\"/>\n       <use x=\"127.246094\" xlink:href=\"#DejaVuSans-48\"/>\n      </g>\n     </g>\n    </g>\n   </g>\n   <g id=\"patch_3\">\n    <path d=\"M 33.2875 228.014531 \nL 33.2875 10.574531 \n\" style=\"fill:none;stroke:#000000;stroke-linecap:square;stroke-linejoin:miter;stroke-width:0.8;\"/>\n   </g>\n   <g id=\"patch_4\">\n    <path d=\"M 250.7275 228.014531 \nL 250.7275 10.574531 \n\" style=\"fill:none;stroke:#000000;stroke-linecap:square;stroke-linejoin:miter;stroke-width:0.8;\"/>\n   </g>\n   <g id=\"patch_5\">\n    <path d=\"M 33.2875 228.014531 \nL 250.7275 228.014531 \n\" style=\"fill:none;stroke:#000000;stroke-linecap:square;stroke-linejoin:miter;stroke-width:0.8;\"/>\n   </g>\n   <g id=\"patch_6\">\n    <path d=\"M 33.2875 10.574531 \nL 250.7275 10.574531 \n\" style=\"fill:none;stroke:#000000;stroke-linecap:square;stroke-linejoin:miter;stroke-width:0.8;\"/>\n   </g>\n  </g>\n </g>\n <defs>\n  <clipPath id=\"p4c1d6acdcf\">\n   <rect height=\"217.44\" width=\"217.44\" x=\"33.2875\" y=\"10.574531\"/>\n  </clipPath>\n </defs>\n</svg>\n",
      "image/png": "[encoded data removed]"
     },
     "metadata": {
      "needs_background": "light"
     }
    },
    {
     "output_type": "error",
     "ename": "TypeError",
     "evalue": "can't multiply sequence by non-int of type 'float'",
     "traceback": [
      "\u001b[0;31m---------------------------------------------------------------------------\u001b[0m",
      "\u001b[0;31mTypeError\u001b[0m                                 Traceback (most recent call last)",
      "\u001b[0;32m<ipython-input-20-b2c0d83bc38f>\u001b[0m in \u001b[0;36m<module>\u001b[0;34m\u001b[0m\n\u001b[0;32m----> 1\u001b[0;31m \u001b[0mrgb_prediction\u001b[0m \u001b[0;34m=\u001b[0m \u001b[0mget_rgb_prediction_new\u001b[0m\u001b[0;34m(\u001b[0m\u001b[0;34m'./data/images/Train/0AEYvu.jpg'\u001b[0m\u001b[0;34m)\u001b[0m\u001b[0;34m\u001b[0m\u001b[0;34m\u001b[0m\u001b[0m\n\u001b[0m\u001b[1;32m      2\u001b[0m \u001b[0mdisplay\u001b[0m\u001b[0;34m(\u001b[0m\u001b[0mrgb_prediction\u001b[0m\u001b[0;34m)\u001b[0m\u001b[0;34m\u001b[0m\u001b[0;34m\u001b[0m\u001b[0m\n",
      "\u001b[0;32m<ipython-input-19-79bbe8432b86>\u001b[0m in \u001b[0;36mget_rgb_prediction_new\u001b[0;34m(img_path)\u001b[0m\n\u001b[1;32m      7\u001b[0m     \u001b[0mdisplay\u001b[0m\u001b[0;34m(\u001b[0m\u001b[0mcolor_img\u001b[0m\u001b[0;34m[\u001b[0m\u001b[0;36m0\u001b[0m\u001b[0;34m]\u001b[0m\u001b[0;34m)\u001b[0m\u001b[0;34m\u001b[0m\u001b[0;34m\u001b[0m\u001b[0m\n\u001b[1;32m      8\u001b[0m \u001b[0;34m\u001b[0m\u001b[0m\n\u001b[0;32m----> 9\u001b[0;31m     \u001b[0mgray_me\u001b[0m \u001b[0;34m=\u001b[0m \u001b[0mgray2rgb\u001b[0m\u001b[0;34m(\u001b[0m\u001b[0mrgb2gray\u001b[0m\u001b[0;34m(\u001b[0m\u001b[0;36m1.0\u001b[0m\u001b[0;34m/\u001b[0m\u001b[0;36m255\u001b[0m\u001b[0;34m*\u001b[0m\u001b[0mcolor_img\u001b[0m\u001b[0;34m)\u001b[0m\u001b[0;34m)\u001b[0m\u001b[0;34m\u001b[0m\u001b[0;34m\u001b[0m\u001b[0m\n\u001b[0m\u001b[1;32m     10\u001b[0m \u001b[0;34m\u001b[0m\u001b[0m\n\u001b[1;32m     11\u001b[0m     \u001b[0mcolor_me_embed\u001b[0m \u001b[0;34m=\u001b[0m \u001b[0mcreate_inception_embedding\u001b[0m\u001b[0;34m(\u001b[0m\u001b[0mgray_me\u001b[0m\u001b[0;34m)\u001b[0m\u001b[0;34m\u001b[0m\u001b[0;34m\u001b[0m\u001b[0m\n",
      "\u001b[0;31mTypeError\u001b[0m: can't multiply sequence by non-int of type 'float'"
     ]
    }
   ],
   "source": [
    "rgb_prediction = get_rgb_prediction_new('./data/images/Train/0AEYvu.jpg')\n",
    "display(rgb_prediction)"
   ]
  },
  {
   "cell_type": "code",
   "execution_count": null,
   "metadata": {},
   "outputs": [],
   "source": []
  }
 ]
}